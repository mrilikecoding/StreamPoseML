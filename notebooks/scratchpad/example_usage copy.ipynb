{
 "cells": [
  {
   "cell_type": "markdown",
   "metadata": {},
   "source": [
    "# Import StreamPoseML"
   ]
  },
  {
   "cell_type": "code",
   "execution_count": 1,
   "metadata": {},
   "outputs": [],
   "source": [
    "# %%capture\n",
    "# %pip install stream_pose_ml\n",
    "import sys\n",
    "import os\n",
    "\n",
    "# Construct the correct absolute path to the stream_pose_ml module directory\n",
    "module_path = os.path.abspath(os.path.join('..'))\n",
    "\n",
    "# Add the corrected path to the system path if it's not already included\n",
    "if module_path not in sys.path:\n",
    "    sys.path.append(module_path)\n",
    "\n",
    "# Now try importing the module\n",
    "import stream_pose_ml"
   ]
  },
  {
   "cell_type": "markdown",
   "metadata": {},
   "source": [
    "# Set input and output directories"
   ]
  },
  {
   "cell_type": "code",
   "execution_count": 2,
   "metadata": {},
   "outputs": [],
   "source": [
    "import os\n",
    "import time\n",
    "\n",
    "# Inputs\n",
    "# example_input_directory = \"../../example_data/input\"\n",
    "# example_output_directory = f\"../../example_data/output-{time.time_ns()}\"\n",
    "example_input_directory = \"../../data/input\"\n",
    "example_output_directory = f\"../../data/output-{time.time_ns()}\"\n",
    "\n",
    "source_annotations_directory = os.path.join(example_input_directory, \"source_annotations\")\n",
    "source_videos_directory = os.path.join(example_input_directory, \"source_videos\")\n",
    "\n",
    "# Outputs\n",
    "\n",
    "# The location to output sequence data\n",
    "sequence_data_directory = os.path.join(example_output_directory, \"sequences\")\n",
    "\n",
    "# The location to output keypoint data\n",
    "keypoints_data_directory = os.path.join(example_output_directory, \"keypoints\")\n",
    "\n",
    "# The location to output datasets\n",
    "merged_annotation_output_directory = os.path.join(example_output_directory, \"datasets\")\n",
    "\n",
    "# The place to save trained models\n",
    "trained_models_output_directory = os.path.join(example_output_directory, \"trained_models\")\n",
    "\n",
    "\n",
    "for dir in [sequence_data_directory, keypoints_data_directory, merged_annotation_output_directory, trained_models_output_directory]:\n",
    "    os.makedirs(dir, exist_ok=True)"
   ]
  },
  {
   "cell_type": "markdown",
   "metadata": {},
   "source": [
    "# Generate Keypoints and Sequence Data"
   ]
  },
  {
   "cell_type": "code",
   "execution_count": 8,
   "metadata": {},
   "outputs": [
    {
     "name": "stderr",
     "output_type": "stream",
     "text": [
      "INFO: Created TensorFlow Lite XNNPACK delegate for CPU.\n"
     ]
    },
    {
     "name": "stdout",
     "output_type": "stream",
     "text": [
      "Successfully wrote ../../data/output-1727320458259607000/sequences/run-preproccessed-1727320463661189000/IKF_8.27_1230pm_BW_Front_P5.webm_sequence.json.\n",
      "1/86 completed: IKF_8.27_1230pm_BW_Front_P5.webm.\n",
      "Successfully wrote ../../data/output-1727320458259607000/sequences/run-preproccessed-1727320463661189000/IKF_8.27_11am_BW_Front_P4.webm_sequence.json.\n",
      "2/86 completed: IKF_8.27_11am_BW_Front_P4.webm.\n",
      "Successfully wrote ../../data/output-1727320458259607000/sequences/run-preproccessed-1727320463661189000/IRC_9.11_2pm_BW_Front_P63.webm_sequence.json.\n",
      "3/86 completed: IRC_9.11_2pm_BW_Front_P63.webm.\n",
      "Successfully wrote ../../data/output-1727320458259607000/sequences/run-preproccessed-1727320463661189000/IKF_8.31_1030am_BW_Front_P26.webm_sequence.json.\n",
      "4/86 completed: IKF_8.31_1030am_BW_Front_P26.webm.\n",
      "Successfully wrote ../../data/output-1727320458259607000/sequences/run-preproccessed-1727320463661189000/IKF_8.31_12pm_BW_Front_P30.webm_sequence.json.\n",
      "5/86 completed: IKF_8.31_12pm_BW_Front_P30.webm.\n",
      "Successfully wrote ../../data/output-1727320458259607000/sequences/run-preproccessed-1727320463661189000/IKF_9.3_230pm_BW_Front_P47.webm_sequence.json.\n",
      "6/86 completed: IKF_9.3_230pm_BW_Front_P47.webm.\n",
      "Successfully wrote ../../data/output-1727320458259607000/sequences/run-preproccessed-1727320463661189000/IRC_9.11_11am_BW_Front2_P58.webm_sequence.json.\n",
      "7/86 completed: IRC_9.11_11am_BW_Front2_P58.webm.\n",
      "Successfully wrote ../../data/output-1727320458259607000/sequences/run-preproccessed-1727320463661189000/IKF_8.27_11am_BW_Front2_P2.webm_sequence.json.\n",
      "8/86 completed: IKF_8.27_11am_BW_Front2_P2.webm.\n",
      "Successfully wrote ../../data/output-1727320458259607000/sequences/run-preproccessed-1727320463661189000/WLR_9.1.1pm_BW_Front2_P43.webm_sequence.json.\n",
      "9/86 completed: WLR_9.1.1pm_BW_Front2_P43.webm.\n",
      "Successfully wrote ../../data/output-1727320458259607000/sequences/run-preproccessed-1727320463661189000/IKF_8.31_1030am_BW_Front2_P27.webm_sequence.json.\n",
      "10/86 completed: IKF_8.31_1030am_BW_Front2_P27.webm.\n",
      "Successfully wrote ../../data/output-1727320458259607000/sequences/run-preproccessed-1727320463661189000/IKF_8.31_1030am_BW_Front2_P26.webm_sequence.json.\n",
      "11/86 completed: IKF_8.31_1030am_BW_Front2_P26.webm.\n",
      "Successfully wrote ../../data/output-1727320458259607000/sequences/run-preproccessed-1727320463661189000/WLR_9.1.1pm_BW_Front2_P42.webm_sequence.json.\n",
      "12/86 completed: WLR_9.1.1pm_BW_Front2_P42.webm.\n",
      "Successfully wrote ../../data/output-1727320458259607000/sequences/run-preproccessed-1727320463661189000/IKF_8.27_11am_BW_Front2_P3.webm_sequence.json.\n",
      "13/86 completed: IKF_8.27_11am_BW_Front2_P3.webm.\n",
      "Successfully wrote ../../data/output-1727320458259607000/sequences/run-preproccessed-1727320463661189000/IKF_8.27_1230pm_BW_Front_P8.webm_sequence.json.\n",
      "14/86 completed: IKF_8.27_1230pm_BW_Front_P8.webm.\n",
      "Successfully wrote ../../data/output-1727320458259607000/sequences/run-preproccessed-1727320463661189000/IKF_8.31_12pm_BW_Front_P31.webm_sequence.json.\n",
      "15/86 completed: IKF_8.31_12pm_BW_Front_P31.webm.\n",
      "Successfully wrote ../../data/output-1727320458259607000/sequences/run-preproccessed-1727320463661189000/IKF_8.31_12pm_BW_Front2_P31.webm_sequence.json.\n",
      "16/86 completed: IKF_8.31_12pm_BW_Front2_P31.webm.\n",
      "Successfully wrote ../../data/output-1727320458259607000/sequences/run-preproccessed-1727320463661189000/IKF_8.31_1030am_BW_Front_P27.webm_sequence.json.\n",
      "17/86 completed: IKF_8.31_1030am_BW_Front_P27.webm.\n",
      "Successfully wrote ../../data/output-1727320458259607000/sequences/run-preproccessed-1727320463661189000/WLR_9.1.1pm_BW_Front_P41.webm_sequence.json.\n",
      "18/86 completed: WLR_9.1.1pm_BW_Front_P41.webm.\n",
      "Successfully wrote ../../data/output-1727320458259607000/sequences/run-preproccessed-1727320463661189000/IRC_9.11_2pm_BW_Front_P62.webm_sequence.json.\n",
      "19/86 completed: IRC_9.11_2pm_BW_Front_P62.webm.\n",
      "Successfully wrote ../../data/output-1727320458259607000/sequences/run-preproccessed-1727320463661189000/WLR_9.8_1130am_BW_Front2_P40.webm_sequence.json.\n",
      "20/86 completed: WLR_9.8_1130am_BW_Front2_P40.webm.\n",
      "Successfully wrote ../../data/output-1727320458259607000/sequences/run-preproccessed-1727320463661189000/WLR_9.8_10am_BW_Front2_P50.webm_sequence.json.\n",
      "21/86 completed: WLR_9.8_10am_BW_Front2_P50.webm.\n",
      "Successfully wrote ../../data/output-1727320458259607000/sequences/run-preproccessed-1727320463661189000/WLR_9.8_1130am_BW_Front_P53.webm_sequence.json.\n",
      "22/86 completed: WLR_9.8_1130am_BW_Front_P53.webm.\n",
      "Successfully wrote ../../data/output-1727320458259607000/sequences/run-preproccessed-1727320463661189000/WLR_9.8_10am_BW_Front_P50.webm_sequence.json.\n",
      "23/86 completed: WLR_9.8_10am_BW_Front_P50.webm.\n",
      "Successfully wrote ../../data/output-1727320458259607000/sequences/run-preproccessed-1727320463661189000/IKF_8.27_230pm_BW_Front2_P9.webm_sequence.json.\n",
      "24/86 completed: IKF_8.27_230pm_BW_Front2_P9.webm.\n",
      "Successfully wrote ../../data/output-1727320458259607000/sequences/run-preproccessed-1727320463661189000/IRC_8.28_130pm_BW_Front_P18.webm_sequence.json.\n",
      "25/86 completed: IRC_8.28_130pm_BW_Front_P18.webm.\n",
      "Successfully wrote ../../data/output-1727320458259607000/sequences/run-preproccessed-1727320463661189000/IKF_8.27_11am_BW_Front2_P4.webm_sequence.json.\n",
      "26/86 completed: IKF_8.27_11am_BW_Front2_P4.webm.\n",
      "Successfully wrote ../../data/output-1727320458259607000/sequences/run-preproccessed-1727320463661189000/IRC_9.11_1230pm_BW_Front2_P60.webm_sequence.json.\n",
      "27/86 completed: IRC_9.11_1230pm_BW_Front2_P60.webm.\n",
      "Successfully wrote ../../data/output-1727320458259607000/sequences/run-preproccessed-1727320463661189000/IKF_9.10_10am_BW_Front_P56.webm_sequence.json.\n",
      "28/86 completed: IKF_9.10_10am_BW_Front_P56.webm.\n",
      "Successfully wrote ../../data/output-1727320458259607000/sequences/run-preproccessed-1727320463661189000/IRC_9.11_1230pm_BW_Front3_P60.webm_sequence.json.\n",
      "29/86 completed: IRC_9.11_1230pm_BW_Front3_P60.webm.\n",
      "Successfully wrote ../../data/output-1727320458259607000/sequences/run-preproccessed-1727320463661189000/IKF_9.3_230pm_BW_Front2_P49.webm_sequence.json.\n",
      "30/86 completed: IKF_9.3_230pm_BW_Front2_P49.webm.\n",
      "Successfully wrote ../../data/output-1727320458259607000/sequences/run-preproccessed-1727320463661189000/IRC_9.11_11am_BW_Front_P57.webm_sequence.json.\n",
      "31/86 completed: IRC_9.11_11am_BW_Front_P57.webm.\n",
      "Successfully wrote ../../data/output-1727320458259607000/sequences/run-preproccessed-1727320463661189000/IKF_8.27_230pm_BW_Front_P9.webm_sequence.json.\n",
      "32/86 completed: IKF_8.27_230pm_BW_Front_P9.webm.\n",
      "Successfully wrote ../../data/output-1727320458259607000/sequences/run-preproccessed-1727320463661189000/IKF_8.27_11am_BW_Front_P2.webm_sequence.json.\n",
      "33/86 completed: IKF_8.27_11am_BW_Front_P2.webm.\n",
      "Successfully wrote ../../data/output-1727320458259607000/sequences/run-preproccessed-1727320463661189000/IKF_8.27_1230pm_BW_Front2_P6.webm_sequence.json.\n",
      "34/86 completed: IKF_8.27_1230pm_BW_Front2_P6.webm.\n",
      "Successfully wrote ../../data/output-1727320458259607000/sequences/run-preproccessed-1727320463661189000/IRC_9.11_1230pm_BW_Front_P61.webm_sequence.json.\n",
      "35/86 completed: IRC_9.11_1230pm_BW_Front_P61.webm.\n",
      "Successfully wrote ../../data/output-1727320458259607000/sequences/run-preproccessed-1727320463661189000/IRC_9.11_1230pm_BW_Front_P60.webm_sequence.json.\n",
      "36/86 completed: IRC_9.11_1230pm_BW_Front_P60.webm.\n",
      "Successfully wrote ../../data/output-1727320458259607000/sequences/run-preproccessed-1727320463661189000/WLR_9.1_230pm_BW_Front2_P44.webm_sequence.json.\n",
      "37/86 completed: WLR_9.1_230pm_BW_Front2_P44.webm.\n",
      "Successfully wrote ../../data/output-1727320458259607000/sequences/run-preproccessed-1727320463661189000/WLR_9.8_1pm_BW_Front2_P55.webm_sequence.json.\n",
      "38/86 completed: WLR_9.8_1pm_BW_Front2_P55.webm.\n",
      "Successfully wrote ../../data/output-1727320458259607000/sequences/run-preproccessed-1727320463661189000/IKF_8.27_11am_BW_Front_P3.webm_sequence.json.\n",
      "39/86 completed: IKF_8.27_11am_BW_Front_P3.webm.\n",
      "Successfully wrote ../../data/output-1727320458259607000/sequences/run-preproccessed-1727320463661189000/IKF_9.3_230pm_BW_Front2_P48.webm_sequence.json.\n",
      "40/86 completed: IKF_9.3_230pm_BW_Front2_P48.webm.\n",
      "Successfully wrote ../../data/output-1727320458259607000/sequences/run-preproccessed-1727320463661189000/IRC_9.11_1230pm_BW_Front2_P61.webm_sequence.json.\n",
      "41/86 completed: IRC_9.11_1230pm_BW_Front2_P61.webm.\n",
      "Successfully wrote ../../data/output-1727320458259607000/sequences/run-preproccessed-1727320463661189000/IKF_8.27_230pm_BW_Front3_P9.webm_sequence.json.\n",
      "42/86 completed: IKF_8.27_230pm_BW_Front3_P9.webm.\n",
      "Successfully wrote ../../data/output-1727320458259607000/sequences/run-preproccessed-1727320463661189000/WLR_9.8_10am_BW_Front_P51.webm_sequence.json.\n",
      "43/86 completed: WLR_9.8_10am_BW_Front_P51.webm.\n",
      "Successfully wrote ../../data/output-1727320458259607000/sequences/run-preproccessed-1727320463661189000/WLR_9.8_10am_BW_Front2_P51.webm_sequence.json.\n",
      "44/86 completed: WLR_9.8_10am_BW_Front2_P51.webm.\n",
      "Successfully wrote ../../data/output-1727320458259607000/sequences/run-preproccessed-1727320463661189000/IKF_9.03_1130am_BW_Front2_P46.webm_sequence.json.\n",
      "45/86 completed: IKF_9.03_1130am_BW_Front2_P46.webm.\n",
      "Successfully wrote ../../data/output-1727320458259607000/sequences/run-preproccessed-1727320463661189000/IKF_9.03_1130am_BW_Front_P45.webm_sequence.json.\n",
      "46/86 completed: IKF_9.03_1130am_BW_Front_P45.webm.\n",
      "Successfully wrote ../../data/output-1727320458259607000/sequences/run-preproccessed-1727320463661189000/IKF_8.27_1230pm_BW_Front2_P8.webm_sequence.json.\n",
      "47/86 completed: IKF_8.27_1230pm_BW_Front2_P8.webm.\n",
      "Successfully wrote ../../data/output-1727320458259607000/sequences/run-preproccessed-1727320463661189000/WLR_9.8_10am_BW_Front_P52.webm_sequence.json.\n",
      "48/86 completed: WLR_9.8_10am_BW_Front_P52.webm.\n",
      "Successfully wrote ../../data/output-1727320458259607000/sequences/run-preproccessed-1727320463661189000/WLR_9.8_10am_BW_Front2_P52.webm_sequence.json.\n",
      "49/86 completed: WLR_9.8_10am_BW_Front2_P52.webm.\n",
      "Successfully wrote ../../data/output-1727320458259607000/sequences/run-preproccessed-1727320463661189000/WLR_9.8_10am_BW_Front3_P52.webm_sequence.json.\n",
      "50/86 completed: WLR_9.8_10am_BW_Front3_P52.webm.\n",
      "Successfully wrote ../../data/output-1727320458259607000/sequences/run-preproccessed-1727320463661189000/IKF_9.03_1130am_BW_Front2_P45.webm_sequence.json.\n",
      "51/86 completed: IKF_9.03_1130am_BW_Front2_P45.webm.\n",
      "Successfully wrote ../../data/output-1727320458259607000/sequences/run-preproccessed-1727320463661189000/IKF_9.03_1130am_BW_Front_P46.webm_sequence.json.\n",
      "52/86 completed: IKF_9.03_1130am_BW_Front_P46.webm.\n",
      "Successfully wrote ../../data/output-1727320458259607000/sequences/run-preproccessed-1727320463661189000/IKF_9.3_230pm_BW_Front2_P47.webm_sequence.json.\n",
      "53/86 completed: IKF_9.3_230pm_BW_Front2_P47.webm.\n",
      "Successfully wrote ../../data/output-1727320458259607000/sequences/run-preproccessed-1727320463661189000/IRC_8.28_130pm_BW_Front2_P18.webm_sequence.json.\n",
      "54/86 completed: IRC_8.28_130pm_BW_Front2_P18.webm.\n",
      "Successfully wrote ../../data/output-1727320458259607000/sequences/run-preproccessed-1727320463661189000/IKF_8.27_230pm_BW_Front_P10.webm_sequence.json.\n",
      "55/86 completed: IKF_8.27_230pm_BW_Front_P10.webm.\n",
      "Successfully wrote ../../data/output-1727320458259607000/sequences/run-preproccessed-1727320463661189000/IKF_8.27_1230pm_BW_Front3_P5.webm_sequence.json.\n",
      "56/86 completed: IKF_8.27_1230pm_BW_Front3_P5.webm.\n",
      "Successfully wrote ../../data/output-1727320458259607000/sequences/run-preproccessed-1727320463661189000/WLR_9.8_1130am_BW_Front3_P53.webm_sequence.json.\n",
      "57/86 completed: WLR_9.8_1130am_BW_Front3_P53.webm.\n",
      "Successfully wrote ../../data/output-1727320458259607000/sequences/run-preproccessed-1727320463661189000/WLR_9.8_1130am_BW_Front2_P53.webm_sequence.json.\n",
      "58/86 completed: WLR_9.8_1130am_BW_Front2_P53.webm.\n",
      "Successfully wrote ../../data/output-1727320458259607000/sequences/run-preproccessed-1727320463661189000/IKF_8.27_230pm_BW_Front_P11.webm_sequence.json.\n",
      "59/86 completed: IKF_8.27_230pm_BW_Front_P11.webm.\n",
      "Successfully wrote ../../data/output-1727320458259607000/sequences/run-preproccessed-1727320463661189000/IKF_8.27_11am_BW_Front_P1.webm_sequence.json.\n",
      "60/86 completed: IKF_8.27_11am_BW_Front_P1.webm.\n",
      "Successfully wrote ../../data/output-1727320458259607000/sequences/run-preproccessed-1727320463661189000/IKF_8.27_1230pm_BW_Front2_P5.webm_sequence.json.\n",
      "61/86 completed: IKF_8.27_1230pm_BW_Front2_P5.webm.\n",
      "Successfully wrote ../../data/output-1727320458259607000/sequences/run-preproccessed-1727320463661189000/IRC_9.11_11am_BW_Front_P58.webm_sequence.json.\n",
      "62/86 completed: IRC_9.11_11am_BW_Front_P58.webm.\n",
      "Successfully wrote ../../data/output-1727320458259607000/sequences/run-preproccessed-1727320463661189000/WLR_9.8_1pm_BW_Front_P55.webm_sequence.json.\n",
      "63/86 completed: WLR_9.8_1pm_BW_Front_P55.webm.\n",
      "Successfully wrote ../../data/output-1727320458259607000/sequences/run-preproccessed-1727320463661189000/IKF_9.10_10am_BW_Front2_P56.webm_sequence.json.\n",
      "64/86 completed: IKF_9.10_10am_BW_Front2_P56.webm.\n"
     ]
    },
    {
     "name": "stderr",
     "output_type": "stream",
     "text": [
      "[matroska,webm @ 0x50a86ba00] File ended prematurely\n"
     ]
    },
    {
     "name": "stdout",
     "output_type": "stream",
     "text": [
      "Successfully wrote ../../data/output-1727320458259607000/sequences/run-preproccessed-1727320463661189000/WLR_9.1.1pm_BW_Front_P42.webm_sequence.json.\n",
      "65/86 completed: WLR_9.1.1pm_BW_Front_P42.webm.\n",
      "Successfully wrote ../../data/output-1727320458259607000/sequences/run-preproccessed-1727320463661189000/IKF_8.27_230pm_BW_Front2_P10.webm_sequence.json.\n",
      "66/86 completed: IKF_8.27_230pm_BW_Front2_P10.webm.\n",
      "Successfully wrote ../../data/output-1727320458259607000/sequences/run-preproccessed-1727320463661189000/IKF_9.3_230pm_BW_Front_P49.webm_sequence.json.\n",
      "67/86 completed: IKF_9.3_230pm_BW_Front_P49.webm.\n",
      "Successfully wrote ../../data/output-1727320458259607000/sequences/run-preproccessed-1727320463661189000/IKF_8.27_11am_BW_Front3_P1.webm_sequence.json.\n",
      "68/86 completed: IKF_8.27_11am_BW_Front3_P1.webm.\n",
      "Successfully wrote ../../data/output-1727320458259607000/sequences/run-preproccessed-1727320463661189000/IKF_8.31_1030am_BW_Front_P28.webm_sequence.json.\n",
      "69/86 completed: IKF_8.31_1030am_BW_Front_P28.webm.\n",
      "Successfully wrote ../../data/output-1727320458259607000/sequences/run-preproccessed-1727320463661189000/IRC_9.11_2pm_BW_Front2_P62.webm_sequence.json.\n",
      "70/86 completed: IRC_9.11_2pm_BW_Front2_P62.webm.\n",
      "Successfully wrote ../../data/output-1727320458259607000/sequences/run-preproccessed-1727320463661189000/WLR_9.1.1pm_BW_Front2_P41.webm_sequence.json.\n",
      "71/86 completed: WLR_9.1.1pm_BW_Front2_P41.webm.\n",
      "Successfully wrote ../../data/output-1727320458259607000/sequences/run-preproccessed-1727320463661189000/IKF_8.27_230pm_BW_Front5_P9.webm_sequence.json.\n",
      "72/86 completed: IKF_8.27_230pm_BW_Front5_P9.webm.\n"
     ]
    },
    {
     "name": "stderr",
     "output_type": "stream",
     "text": [
      "[matroska,webm @ 0x50ac89000] File ended prematurely at pos. 524288 (0x80000)\n"
     ]
    },
    {
     "name": "stdout",
     "output_type": "stream",
     "text": [
      "Successfully wrote ../../data/output-1727320458259607000/sequences/run-preproccessed-1727320463661189000/WLR_9.8_10am_BW_Front_P54.webm_sequence.json.\n",
      "73/86 completed: WLR_9.8_10am_BW_Front_P54.webm.\n",
      "Successfully wrote ../../data/output-1727320458259607000/sequences/run-preproccessed-1727320463661189000/WLR_9.1_230pm_BW_Front_P44.webm_sequence.json.\n",
      "74/86 completed: WLR_9.1_230pm_BW_Front_P44.webm.\n",
      "Successfully wrote ../../data/output-1727320458259607000/sequences/run-preproccessed-1727320463661189000/WLR_9.8_1130am_BW_Front_P40.webm_sequence.json.\n",
      "75/86 completed: WLR_9.8_1130am_BW_Front_P40.webm.\n",
      "Successfully wrote ../../data/output-1727320458259607000/sequences/run-preproccessed-1727320463661189000/IKF_8.27_11am_BW_Front2_P1.webm_sequence.json.\n",
      "76/86 completed: IKF_8.27_11am_BW_Front2_P1.webm.\n",
      "Successfully wrote ../../data/output-1727320458259607000/sequences/run-preproccessed-1727320463661189000/IRC_9.11_2pm_BW_Front2_P63.webm_sequence.json.\n",
      "77/86 completed: IRC_9.11_2pm_BW_Front2_P63.webm.\n",
      "Successfully wrote ../../data/output-1727320458259607000/sequences/run-preproccessed-1727320463661189000/IKF_8.27_230pm_BW_Front4_P9.webm_sequence.json.\n",
      "78/86 completed: IKF_8.27_230pm_BW_Front4_P9.webm.\n",
      "Successfully wrote ../../data/output-1727320458259607000/sequences/run-preproccessed-1727320463661189000/IRC_9.11_11am_BW_Front2_P57.webm_sequence.json.\n",
      "79/86 completed: IRC_9.11_11am_BW_Front2_P57.webm.\n",
      "Successfully wrote ../../data/output-1727320458259607000/sequences/run-preproccessed-1727320463661189000/IKF_8.27_230pm_BW_Front2_P11.webm_sequence.json.\n",
      "80/86 completed: IKF_8.27_230pm_BW_Front2_P11.webm.\n",
      "Successfully wrote ../../data/output-1727320458259607000/sequences/run-preproccessed-1727320463661189000/IKF_9.3_230pm_BW_Front_P48.webm_sequence.json.\n",
      "81/86 completed: IKF_9.3_230pm_BW_Front_P48.webm.\n",
      "Successfully wrote ../../data/output-1727320458259607000/sequences/run-preproccessed-1727320463661189000/IKF_8.27_1230pm_BW_Front_P6.webm_sequence.json.\n",
      "82/86 completed: IKF_8.27_1230pm_BW_Front_P6.webm.\n",
      "Successfully wrote ../../data/output-1727320458259607000/sequences/run-preproccessed-1727320463661189000/IKF_8.31_12pm_BW_Front_P29.webm_sequence.json.\n",
      "83/86 completed: IKF_8.31_12pm_BW_Front_P29.webm.\n",
      "Successfully wrote ../../data/output-1727320458259607000/sequences/run-preproccessed-1727320463661189000/IKF_8.31_12pm_BW_Front2_P29.webm_sequence.json.\n",
      "84/86 completed: IKF_8.31_12pm_BW_Front2_P29.webm.\n",
      "Successfully wrote ../../data/output-1727320458259607000/sequences/run-preproccessed-1727320463661189000/IKF_8.31_1030am_BW_Front2_P28.webm_sequence.json.\n",
      "85/86 completed: IKF_8.31_1030am_BW_Front2_P28.webm.\n",
      "Successfully wrote ../../data/output-1727320458259607000/sequences/run-preproccessed-1727320463661189000/WLR_9.1.1pm_BW_Front_P43.webm_sequence.json.\n",
      "86/86 completed: WLR_9.1.1pm_BW_Front_P43.webm.\n",
      "Generated keypoints are located at ../../data/output-1727320458259607000/keypoints/run-preproccessed-1727320463661189000\n",
      "Generated sequences are located at ../../data/output-1727320458259607000/sequences/run-preproccessed-1727320463661189000\n"
     ]
    }
   ],
   "source": [
    "\n",
    "import stream_pose_ml.jobs.process_videos_job as pv\n",
    "\n",
    "folder = f\"run-preproccessed-{time.time_ns()}\"  \n",
    "keypoints_path = f\"{keypoints_data_directory}/{folder}\"\n",
    "sequence_path = f\"{sequence_data_directory}/{folder}\"\n",
    "\n",
    "data = pv.ProcessVideosJob().process_videos(\n",
    "    src_videos_path=source_videos_directory,\n",
    "    output_keypoints_data_path=keypoints_path,\n",
    "    output_sequence_data_path=sequence_path,\n",
    "    write_keypoints_to_file=True,\n",
    "    write_serialized_sequence_to_file=True,\n",
    "    limit=None,\n",
    "    configuration={},\n",
    "    preprocess_video=True,\n",
    "    return_output=False\n",
    ")\n",
    "\n",
    "print(f\"Generated keypoints are located at {data['keypoints_path']}\")\n",
    "print(f\"Generated sequences are located at {data['sequence_path']}\")"
   ]
  },
  {
   "cell_type": "markdown",
   "metadata": {},
   "source": [
    "# Merge video sequence data into a dataset"
   ]
  },
  {
   "cell_type": "code",
   "execution_count": 3,
   "metadata": {},
   "outputs": [],
   "source": [
    "import stream_pose_ml.jobs.build_and_format_dataset_job as data_builder \n",
    "\n",
    "db = data_builder.BuildAndFormatDatasetJob()\n",
    "\n",
    "# dataset_file_name = \"preprocessed_flatten_on_example_10_frames_5\"\n",
    "dataset_file_name = \"30framesperrow\"\n"
   ]
  },
  {
   "cell_type": "code",
   "execution_count": 4,
   "metadata": {},
   "outputs": [
    {
     "data": {
      "text/plain": [
       "True"
      ]
     },
     "execution_count": 4,
     "metadata": {},
     "output_type": "execute_result"
    }
   ],
   "source": [
    "\n",
    "dataset = db.build_dataset_from_data_files(\n",
    "    annotations_data_directory=source_annotations_directory,\n",
    "    sequence_data_directory=sequence_data_directory,\n",
    "    limit=None,\n",
    ")\n",
    "\n",
    "# formatted_dataset = db.format_dataset(\n",
    "#     dataset=dataset,\n",
    "#     pool_frame_data_by_clip=False,\n",
    "#     decimal_precision=4,\n",
    "#     include_unlabeled_data=True,\n",
    "#     include_angles=True,\n",
    "#     include_distances=True,\n",
    "#     include_normalized=True,\n",
    "#     segmentation_strategy=\"flatten_into_columns\",\n",
    "#     segmentation_splitter_label=\"step_type\",\n",
    "#     segmentation_window=10,\n",
    "#     segmentation_window_label=\"weight_transfer_type\",\n",
    "# )\n",
    "\n",
    "formatted_dataset = db.format_dataset(\n",
    "    dataset=dataset,\n",
    "    pool_frame_data_by_clip=False,\n",
    "    decimal_precision=4,\n",
    "    include_unlabeled_data=True,\n",
    "    include_joints=True,\n",
    "    include_angles=False,\n",
    "    include_distances=False,\n",
    "    include_normalized=False,\n",
    "    segmentation_strategy=\"flatten_into_columns\",\n",
    "    segmentation_splitter_label=\"step_type\",\n",
    "    segmentation_window=30,\n",
    "    segmentation_window_label=\"weight_transfer_type\",\n",
    ")\n",
    "\n",
    "db.write_dataset_to_csv(\n",
    "    csv_location=merged_annotation_output_directory,\n",
    "    formatted_dataset=formatted_dataset,\n",
    "    filename=dataset_file_name\n",
    ")\n"
   ]
  },
  {
   "cell_type": "markdown",
   "metadata": {},
   "source": [
    "# Train a model (Gradient Boost)"
   ]
  },
  {
   "cell_type": "markdown",
   "metadata": {},
   "source": [
    "### Create some synthetic data from our limited sample data for training demo purposes..."
   ]
  },
  {
   "cell_type": "code",
   "execution_count": 4,
   "metadata": {},
   "outputs": [],
   "source": [
    "# Our dataset example is comically small, so let's make it bigger for the sake of a training demonstration\n",
    "\n",
    "import pandas as pd\n",
    "data_file = os.path.join(merged_annotation_output_directory, f\"{dataset_file_name}.csv\")\n",
    "# data_file_expanded = os.path.join(merged_annotation_output_directory, f\"{dataset_file_name}-EXPANDED.csv\")\n",
    "\n",
    "# df = pd.read_csv(data_file)\n",
    "# df = pd.concat( map(pd.read_csv, [data_file for _ in range(100)]), ignore_index=True) \n",
    "# df = df.sample(frac=1).reset_index(drop=True)\n",
    "# df.to_csv(data_file_expanded)\n",
    "\n",
    "# display(len(df))\n",
    "# display(df.head())\n",
    "\n",
    "# data_file = data_file_expanded\n"
   ]
  },
  {
   "cell_type": "code",
   "execution_count": 5,
   "metadata": {},
   "outputs": [
    {
     "name": "stdout",
     "output_type": "stream",
     "text": [
      "Training Balance for weight_transfer_type:\n",
      "1    778\n",
      "0    778\n",
      "Name: weight_transfer_type, dtype: int64\n",
      "Classification Metrics:\n",
      "Accuracy: 0.9083\n",
      "Precision: 0.9256\n",
      "Recall: 0.9755\n",
      "F1 Score: 0.9499\n",
      "ROC AUC: 0.8745\n",
      "Matthews correlation coefficient (-1 to 1): 0.4366984733672207\n",
      "\n",
      "Classification Report:\n",
      "              precision    recall  f1-score   support\n",
      "\n",
      "           0       0.64      0.36      0.46        25\n",
      "           1       0.93      0.98      0.95       204\n",
      "\n",
      "    accuracy                           0.91       229\n",
      "   macro avg       0.78      0.67      0.71       229\n",
      "weighted avg       0.89      0.91      0.90       229\n",
      "\n"
     ]
    },
    {
     "data": {
      "image/png": "[encoded data removed]",
      "text/plain": [
       "<Figure size 600x400 with 1 Axes>"
      ]
     },
     "metadata": {},
     "output_type": "display_data"
    },
    {
     "data": {
      "image/png": "[encoded data removed]",
      "text/plain": [
       "<Figure size 600x600 with 1 Axes>"
      ]
     },
     "metadata": {},
     "output_type": "display_data"
    }
   ],
   "source": [
    "# NOTE This example will be very overfit!\n",
    "from stream_pose_ml.learning import model_builder as mb\n",
    "\n",
    "# Mapping string categories to numerical\n",
    "value_map = {\n",
    "    \"weight_transfer_type\": {\n",
    "        \"Failure Weight Transfer\": 0,\n",
    "        \"Successful Weight Transfer\": 1,\n",
    "    },\n",
    "    \"step_type\": {\n",
    "        \"Left Step\": 0,\n",
    "        \"Right Step\": 1,\n",
    "    },\n",
    "}\n",
    "# Columns we know we'll always want to drop\n",
    "drop_list = [\"video_id\", \"step_frame_id\", \"frame_number\", \"step_type\"]\n",
    "# Only keep these columns (including target)\n",
    "column_whitelist = []\n",
    "\n",
    "\n",
    "model_builder = mb.ModelBuilder()\n",
    "\n",
    "model_builder.load_and_prep_dataset_from_csv(\n",
    "    path=data_file,\n",
    "    target=\"weight_transfer_type\",\n",
    "    value_map=value_map,\n",
    "    column_whitelist=column_whitelist,\n",
    "    drop_list=drop_list,\n",
    ")\n",
    "\n",
    "model_builder.set_train_test_split(\n",
    "    balance_off_target=True,\n",
    "    upsample_minority=True,\n",
    "    downsample_majority=False,\n",
    "    use_SMOTE=False,\n",
    "    random_state=40002,\n",
    ")\n",
    "model_builder.train_gradient_boost()\n",
    "model_builder.evaluate_model()"
   ]
  },
  {
   "cell_type": "markdown",
   "metadata": {},
   "source": [
    "# Train a model (Random Forest)"
   ]
  },
  {
   "cell_type": "code",
   "execution_count": 10,
   "metadata": {},
   "outputs": [
    {
     "name": "stdout",
     "output_type": "stream",
     "text": [
      "Training Balance for weight_transfer_type:\n",
      "1    778\n",
      "0    778\n",
      "Name: weight_transfer_type, dtype: int64\n"
     ]
    },
    {
     "name": "stderr",
     "output_type": "stream",
     "text": [
      "/opt/homebrew/Caskroom/miniconda/base/envs/poser/lib/python3.10/site-packages/sklearn/model_selection/_search.py:305: UserWarning: The total space of parameters 1 is smaller than n_iter=50. Running 1 iterations. For exhaustive searches, use GridSearchCV.\n",
      "  warnings.warn(\n"
     ]
    },
    {
     "name": "stdout",
     "output_type": "stream",
     "text": [
      "Best random search hyperparameters: {'n_estimators': 572, 'max_features': 8, 'max_depth': 14}\n",
      "Top 5 features\n",
      "{'joints.frame-22-right_elbow.x': '0.16211481761635435%'}\n",
      "{'joints.frame-26-neck.x': '0.15513327801923907%'}\n",
      "{'joints.frame-16-right_elbow.x': '0.15189055766376192%'}\n",
      "{'joints.frame-17-left_shoulder.x': '0.15154344101266357%'}\n",
      "{'joints.frame-24-right_elbow.x': '0.14840689672061524%'}\n",
      "Classification Metrics:\n",
      "Accuracy: 0.8908\n",
      "Precision: 0.9366\n",
      "Recall: 0.9412\n",
      "F1 Score: 0.9389\n",
      "ROC AUC: 0.9014\n",
      "Matthews correlation coefficient (-1 to 1): 0.42881171101162496\n",
      "\n",
      "Classification Report:\n",
      "              precision    recall  f1-score   support\n",
      "\n",
      "           0       0.50      0.48      0.49        25\n",
      "           1       0.94      0.94      0.94       204\n",
      "\n",
      "    accuracy                           0.89       229\n",
      "   macro avg       0.72      0.71      0.71       229\n",
      "weighted avg       0.89      0.89      0.89       229\n",
      "\n"
     ]
    },
    {
     "data": {
      "image/png": "[encoded data removed]",
      "text/plain": [
       "<Figure size 600x400 with 1 Axes>"
      ]
     },
     "metadata": {},
     "output_type": "display_data"
    },
    {
     "data": {
      "image/png": "[encoded data removed]",
      "text/plain": [
       "<Figure size 600x600 with 1 Axes>"
      ]
     },
     "metadata": {},
     "output_type": "display_data"
    }
   ],
   "source": [
    "from random import randint\n",
    "# NOTE This example will be very overfit!\n",
    "\n",
    "# Mapping string categories to numerical\n",
    "value_map = {\n",
    "    \"weight_transfer_type\": {\n",
    "        \"Failure Weight Transfer\": 0,\n",
    "        \"Successful Weight Transfer\": 1,\n",
    "    },\n",
    "    \"step_type\": {\n",
    "        \"Left Step\": 0,\n",
    "        \"Right Step\": 1,\n",
    "    },\n",
    "}\n",
    "# Columns we know we'll always want to drop\n",
    "drop_list = [\"video_id\", \"step_frame_id\", \"frame_number\", \"step_type\"]\n",
    "# Only keep these columns (including target)\n",
    "column_whitelist = []\n",
    "\n",
    "model_builder.load_and_prep_dataset_from_csv(\n",
    "    path=data_file,\n",
    "    target=\"weight_transfer_type\",\n",
    "    value_map=value_map,\n",
    "    column_whitelist=column_whitelist,\n",
    "    drop_list=drop_list,\n",
    ")\n",
    "\n",
    "model_builder.set_train_test_split(\n",
    "    balance_off_target=True,\n",
    "    upsample_minority=True,\n",
    "    downsample_majority=False,\n",
    "    use_SMOTE=False,\n",
    "    random_state=40002,\n",
    ")\n",
    "# model_builder.run_pca(num_components=200)\n",
    "\n",
    "param_dist = {\n",
    "    \"n_estimators\": [randint(400, 600)],\n",
    "    \"max_depth\": [randint(9, 15)],\n",
    "    \"max_features\": [randint(4, 12)],\n",
    "}\n",
    "rf_params = {\n",
    "    \"n_estimators\": [20,50,100,200],\n",
    "    \"max_depth\": 9,\n",
    "    \"max_leaf_nodes\": 63,\n",
    "}\n",
    "\n",
    "model_builder.train_random_forest(\n",
    "    use_random_search=True, \n",
    "    params=rf_params, \n",
    "    param_dist=param_dist, \n",
    "    iterations=50, \n",
    "    random_state = 123\n",
    ")\n",
    "model_builder.evaluate_model()"
   ]
  },
  {
   "cell_type": "markdown",
   "metadata": {},
   "source": [
    "# Save model for use in the Web Application\n",
    "\n",
    "This will ouput a pickled dictionary with the model saved to the \"classifier\" key.\n"
   ]
  },
  {
   "cell_type": "code",
   "execution_count": null,
   "metadata": {},
   "outputs": [],
   "source": [
    "\"\"\" WRITE NOTES ON THIS RUN HERE \"\"\"\n",
    "notes = \"\"\"\n",
    "Gradient Boost classifier (90% ROC AUC) trained on dataset preprocessed_flatten_on_example_10_frames, a 10 frame window with flat column 2d angles + distances, and randomly upsampled\n",
    "    \"\"\"\n",
    "\n",
    "model_builder.save_model_and_datasets(notes=notes, model_type=\"gradient-boost\", model_path=trained_models_output_directory)"
   ]
  },
  {
   "cell_type": "markdown",
   "metadata": {},
   "source": [
    "# Save MLFlow Model\n",
    "\n",
    "This will log the model in standard MLFlow folder format."
   ]
  },
  {
   "cell_type": "code",
   "execution_count": 6,
   "metadata": {},
   "outputs": [
    {
     "name": "stdout",
     "output_type": "stream",
     "text": [
      "Model 'Gradient-Boost-mlflow-1727676924468490000' successfully saved to /Users/nathangreen/Development/Poser/data/output-1727676842424008000/trained_models/Gradient-Boost-mlflow-1727676924468490000\n",
      "Zipped model directory to /Users/nathangreen/Development/Poser/data/output-1727676842424008000/trained_models/Gradient-Boost-mlflow-1727676924468490000.zip\n"
     ]
    }
   ],
   "source": [
    "\n",
    "model_builder.save_model_to_mlflow(model_path=trained_models_output_directory)"
   ]
  },
  {
   "cell_type": "markdown",
   "metadata": {},
   "source": [
    "# Other kinds of datasets from sequences"
   ]
  },
  {
   "cell_type": "markdown",
   "metadata": {},
   "source": [
    "### Dataset with raw x, y, z joint data, with one frame per row"
   ]
  },
  {
   "cell_type": "code",
   "execution_count": null,
   "metadata": {},
   "outputs": [],
   "source": [
    "sequence_data_directory = \"../../data/sequences/run-preproccessed-1680117203184086000\"\n",
    "db = data_builder.BuildAndFormatDatasetJob()\n",
    "dataset = db.build_dataset_from_data_files(\n",
    "    annotations_data_directory=source_annotations_directory,\n",
    "    sequence_data_directory=sequence_data_directory,\n",
    "    limit=None,\n",
    ")\n",
    "\n",
    "formatted_dataset = db.format_dataset(\n",
    "    dataset=dataset,\n",
    "    pool_frame_data_by_clip=False,\n",
    "    decimal_precision=4,\n",
    "    include_unlabeled_data=True,\n",
    "    include_joints=True,\n",
    "    include_z_axis=True,\n",
    "    include_angles=False,\n",
    "    include_distances=False,\n",
    "    include_normalized=False,\n",
    "    segmentation_strategy=\"none\",\n",
    ")\n",
    "\n",
    "db.write_dataset_to_csv(\n",
    "    csv_location=merged_annotation_output_directory,\n",
    "    formatted_dataset=formatted_dataset,\n",
    "    filename=\"preprocessed_frame_joint_data\"\n",
    ")"
   ]
  },
  {
   "cell_type": "markdown",
   "metadata": {},
   "source": [
    "### Split on Step Type, pooled temporal dynamics with angles and distances, only the last 10 frames"
   ]
  },
  {
   "cell_type": "code",
   "execution_count": null,
   "metadata": {},
   "outputs": [],
   "source": [
    "db = data_builder.BuildAndFormatDatasetJob()\n",
    "dataset = db.build_dataset_from_data_files(\n",
    "    annotations_data_directory=source_annotations_directory,\n",
    "    sequence_data_directory=sequence_data_directory,\n",
    "    limit=None,\n",
    ")\n",
    "\n",
    "formatted_dataset = db.format_dataset(\n",
    "    dataset=dataset,\n",
    "    pool_frame_data_by_clip=True,\n",
    "    decimal_precision=4,\n",
    "    include_unlabeled_data=True,\n",
    "    include_angles=True,\n",
    "    include_distances=True,\n",
    "    include_normalized=True,\n",
    "    segmentation_strategy=\"split_on_label\",\n",
    "    segmentation_splitter_label=\"step_type\",\n",
    "    segmentation_window=10,\n",
    "    segmentation_window_label=\"weight_transfer_type\",\n",
    ")\n",
    "\n",
    "db.write_dataset_to_csv(\n",
    "    csv_location=merged_annotation_output_directory,\n",
    "    formatted_dataset=formatted_dataset,\n",
    "    filename=\"pooled_angles_distances_last_10_frames\"\n",
    ")"
   ]
  },
  {
   "cell_type": "markdown",
   "metadata": {},
   "source": [
    "### Flatten columns over 10 frame window on step type (arbitrary start / end)"
   ]
  },
  {
   "cell_type": "code",
   "execution_count": null,
   "metadata": {},
   "outputs": [],
   "source": [
    "db = data_builder.BuildAndFormatDatasetJob()\n",
    "dataset = db.build_dataset_from_data_files(\n",
    "    annotations_data_directory=source_annotations_directory,\n",
    "    sequence_data_directory=sequence_data_directory,\n",
    "    limit=None,\n",
    ")\n",
    "\n",
    "formatted_dataset = db.format_dataset(\n",
    "    dataset=dataset,\n",
    "    pool_frame_data_by_clip=True,\n",
    "    decimal_precision=4,\n",
    "    include_unlabeled_data=True,\n",
    "    include_angles=True,\n",
    "    include_distances=True,\n",
    "    include_normalized=True,\n",
    "    segmentation_strategy=\"split_on_label\",\n",
    "    segmentation_splitter_label=\"step_type\",\n",
    "    segmentation_window=10,\n",
    "    segmentation_window_label=\"weight_transfer_type\",\n",
    ")\n",
    "\n",
    "db.write_dataset_to_csv(\n",
    "    csv_location=merged_annotation_output_directory,\n",
    "    formatted_dataset=formatted_dataset,\n",
    "    filename=\"pooled_angles_distances_last_10_frames\"\n",
    ")"
   ]
  },
  {
   "cell_type": "markdown",
   "metadata": {},
   "source": [
    "### Flatten on a 10 frame window based on complete training examples (the end of the example will flatten the previous 10 frames into a training row0)"
   ]
  },
  {
   "cell_type": "code",
   "execution_count": null,
   "metadata": {},
   "outputs": [],
   "source": [
    "db = data_builder.BuildAndFormatDatasetJob()\n",
    "dataset = db.build_dataset_from_data_files(\n",
    "    annotations_data_directory=source_annotations_directory,\n",
    "    sequence_data_directory=sequence_data_directory,\n",
    "    limit=None,\n",
    ")\n",
    "\n",
    "formatted_dataset = db.format_dataset(\n",
    "    dataset=dataset,\n",
    "    pool_frame_data_by_clip=False,\n",
    "    decimal_precision=4,\n",
    "    include_unlabeled_data=True,\n",
    "    include_angles=True,\n",
    "    include_distances=True,\n",
    "    include_normalized=True,\n",
    "    segmentation_strategy=\"flatten_on_example\",\n",
    "    segmentation_splitter_label=\"step_type\",\n",
    "    segmentation_window=10,\n",
    "    segmentation_window_label=\"weight_transfer_type\",\n",
    ")\n",
    "\n",
    "db.write_dataset_to_csv(\n",
    "    csv_location=merged_annotation_output_directory,\n",
    "    formatted_dataset=formatted_dataset,\n",
    "    filename=\"flatten_on_example_10_frames_2\"\n",
    ")"
   ]
  },
  {
   "cell_type": "markdown",
   "metadata": {},
   "source": [
    "### Flatten on a 25 frame window based on complete training examples (the end of the example will flatten the previous 25 frames into a training row)"
   ]
  },
  {
   "cell_type": "code",
   "execution_count": null,
   "metadata": {},
   "outputs": [],
   "source": [
    "db = data_builder.BuildAndFormatDatasetJob()\n",
    "dataset = db.build_dataset_from_data_files(\n",
    "    annotations_data_directory=source_annotations_directory,\n",
    "    sequence_data_directory=sequence_data_directory,\n",
    "    limit=None,\n",
    ")\n",
    "\n",
    "formatted_dataset = db.format_dataset(\n",
    "    dataset=dataset,\n",
    "    pool_frame_data_by_clip=False,\n",
    "    decimal_precision=4,\n",
    "    include_unlabeled_data=True,\n",
    "    include_angles=True,\n",
    "    include_distances=True,\n",
    "    include_normalized=True,\n",
    "    segmentation_strategy=\"flatten_on_example\",\n",
    "    segmentation_splitter_label=\"step_type\",\n",
    "    segmentation_window=25,\n",
    "    segmentation_window_label=\"weight_transfer_type\",\n",
    ")\n",
    "\n",
    "db.write_dataset_to_csv(\n",
    "    csv_location=merged_annotation_output_directory,\n",
    "    formatted_dataset=formatted_dataset,\n",
    "    filename=\"preprocessed_flatten_on_example_25_frames_2\"\n",
    ")"
   ]
  },
  {
   "cell_type": "markdown",
   "metadata": {},
   "source": [
    "### Dataset with all frames as rows"
   ]
  },
  {
   "cell_type": "code",
   "execution_count": null,
   "metadata": {},
   "outputs": [],
   "source": [
    "db = data_builder.BuildAndFormatDatasetJob()\n",
    "dataset = db.build_dataset_from_data_files(\n",
    "    annotations_data_directory=source_annotations_directory,\n",
    "    sequence_data_directory=sequence_data_directory,\n",
    "    limit=None,\n",
    ")\n",
    "\n",
    "formatted_dataset = db.format_dataset(\n",
    "    dataset=dataset,\n",
    "    pool_frame_data_by_clip=False,\n",
    "    decimal_precision=4,\n",
    "    include_unlabeled_data=True,\n",
    "    include_angles=True,\n",
    "    include_distances=True,\n",
    "    include_normalized=True,\n",
    "    segmentation_strategy=\"none\",\n",
    "    segmentation_splitter_label=\"step_type\",\n",
    "    segmentation_window=25,\n",
    "    segmentation_window_label=\"weight_transfer_type\",\n",
    ")\n",
    "\n",
    "db.write_dataset_to_csv(\n",
    "    csv_location=merged_annotation_output_directory,\n",
    "    formatted_dataset=formatted_dataset,\n",
    "    filename=\"preprocessed_all_rows.csv\",\n",
    ")"
   ]
  }
 ],
 "metadata": {
  "kernelspec": {
   "display_name": "poser",
   "language": "python",
   "name": "python3"
  },
  "language_info": {
   "codemirror_mode": {
    "name": "ipython",
    "version": 3
   },
   "file_extension": ".py",
   "mimetype": "text/x-python",
   "name": "python",
   "nbconvert_exporter": "python",
   "pygments_lexer": "ipython3",
   "version": "3.10.12"
  }
 },
 "nbformat": 4,
 "nbformat_minor": 2
}
